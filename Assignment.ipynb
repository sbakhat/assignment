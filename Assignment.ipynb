{
 "cells": [
  {
   "cell_type": "code",
   "execution_count": null,
   "id": "3be226ad",
   "metadata": {},
   "outputs": [],
   "source": [
    "# 1) Write a Python program that simulates a basic calculator, performing addition, subtraction,multiplication, and division.\n"
   ]
  },
  {
   "cell_type": "code",
   "execution_count": 1,
   "id": "37451e8e-27fe-4c64-9d16-6b376f24b354",
   "metadata": {},
   "outputs": [
    {
     "name": "stdout",
     "output_type": "stream",
     "text": [
      "Addition: 11.0\n",
      "Subtraction: -1.0\n",
      "Multiplication: 30.0\n",
      "Division: 0.8333333333333334\n"
     ]
    }
   ],
   "source": [
    "a = float(input(\"Enter first number: \"))\n",
    "b = float(input(\"Enter second number: \"))\n",
    "\n",
    "print(\"Addition:\", a + b)\n",
    "print(\"Subtraction:\", a - b)\n",
    "print(\"Multiplication:\", a * b)\n",
    "\n",
    "if b != 0:\n",
    "    print(\"Division:\", a / b)\n",
    "else:\n",
    "    print(\"Cannot divide by zero\")\n"
   ]
  },
  {
   "cell_type": "code",
   "execution_count": null,
   "id": "db8d27c9",
   "metadata": {},
   "outputs": [],
   "source": [
    "# 2) Write a Python program that converts a given decimal number to its binary equivalent.\n"
   ]
  },
  {
   "cell_type": "code",
   "execution_count": 2,
   "id": "5c3b36e9-067e-41ae-99a7-91e307a60f5c",
   "metadata": {},
   "outputs": [
    {
     "name": "stdout",
     "output_type": "stream",
     "text": [
      "Binary equivalent: 111\n"
     ]
    }
   ],
   "source": [
    "num = int(input(\"Enter a decimal number: \"))\n",
    "print(\"Binary equivalent:\", bin(num)[2:])"
   ]
  },
  {
   "cell_type": "code",
   "execution_count": 3,
   "id": "bdafeebd-0538-41d9-a1e8-b32a6b8710dc",
   "metadata": {},
   "outputs": [
    {
     "name": "stdout",
     "output_type": "stream",
     "text": [
      "You are an adult\n"
     ]
    }
   ],
   "source": [
    "# 3) Write a Python program that asks for the user's age and then prints a message stating whether\n",
    "# the user is a minor, an adult, or a senior.\n",
    "age = int(input(\"Enter your age: \"))\n",
    "\n",
    "if age < 18:\n",
    "    print(\"You are a minor\")\n",
    "elif age < 60:\n",
    "    print(\"You are an adult\")\n",
    "else:\n",
    "    print(\"You are a senior\")"
   ]
  },
  {
   "cell_type": "code",
   "execution_count": 4,
   "id": "f576eb0e-a10d-4a3f-b7e5-0e2574856be7",
   "metadata": {},
   "outputs": [
    {
     "name": "stdout",
     "output_type": "stream",
     "text": [
      "After swap, a = 6 b = 9\n"
     ]
    }
   ],
   "source": [
    "# 4) Write a Python program to swap the values of two variables without using a third variable.\n",
    "a = int(input(\"Enter first number: \"))\n",
    "b = int(input(\"Enter second number: \"))\n",
    "\n",
    "a, b = b, a\n",
    "\n",
    "print(\"After swap, a =\", a, \"b =\", b)\n"
   ]
  },
  {
   "cell_type": "code",
   "execution_count": 7,
   "id": "66424d08-42be-4dc6-a250-a57ce138fac9",
   "metadata": {},
   "outputs": [
    {
     "name": "stdout",
     "output_type": "stream",
     "text": [
      "0 1 1 2 3 5 8 13 21 34 \n"
     ]
    }
   ],
   "source": [
    "# 5) Write a Python program to print the first 10 numbers of the Fibonacci series.\n",
    "a, b = 0, 1\n",
    "for _ in range(10):\n",
    "    print(a, end=\" \")\n",
    "    a, b = b, a + b\n",
    "print()"
   ]
  },
  {
   "cell_type": "code",
   "execution_count": 7,
   "id": "70bf45b7-4f58-48d7-a69f-ca4c9c3503e4",
   "metadata": {},
   "outputs": [
    {
     "name": "stdout",
     "output_type": "stream",
     "text": [
      "Prime\n"
     ]
    }
   ],
   "source": [
    "# 6) Write a Python program to check if a given number is prime or not.\n",
    "num = int(input(\"Enter number: \"))\n",
    "\n",
    "if num > 1:\n",
    "    for i in range(2, num):\n",
    "        if num % i == 0:\n",
    "            print(\"Not Prime\")\n",
    "            break\n",
    "    else:\n",
    "        print(\"Prime\")\n",
    "else:\n",
    "    print(\"Not Prime\")"
   ]
  },
  {
   "cell_type": "code",
   "execution_count": 8,
   "id": "981e6cf6-1c2c-4107-98f5-b262f0781d9c",
   "metadata": {},
   "outputs": [
    {
     "name": "stdout",
     "output_type": "stream",
     "text": [
      "It is not\n"
     ]
    }
   ],
   "source": [
    "# 7) Write a Python program that takes three numbers as input and checks if the third number is the\n",
    "# sum of the first two numbers using logical operators.\n",
    "a = int(input(\"First number: \"))\n",
    "b = int(input(\"Second number: \"))\n",
    "c = int(input(\"Third number: \"))\n",
    "\n",
    "if c == a + b:\n",
    "    print(\"Third number is sum of first two\")\n",
    "else:\n",
    "    print(\"It is not\")\n",
    "\n"
   ]
  },
  {
   "cell_type": "code",
   "execution_count": 8,
   "id": "5a35a538-b0c7-4371-922b-77fc504cd5ad",
   "metadata": {},
   "outputs": [
    {
     "name": "stdout",
     "output_type": "stream",
     "text": [
      "Factorial: 5040\n"
     ]
    }
   ],
   "source": [
    "# 8) Write a Python program that imports a custom module you created with a function that returns\n",
    "# the factorial of a number.\n",
    "\n",
    "import factorialmodule\n",
    "\n",
    "num = int(input(\"Enter number: \"))\n",
    "print(\"Factorial:\", factorialmodule.factorial(num))\n",
    "\n"
   ]
  },
  {
   "cell_type": "code",
   "execution_count": 2,
   "id": "176c6371-3557-4972-9a3b-93861ae4530d",
   "metadata": {},
   "outputs": [
    {
     "name": "stdout",
     "output_type": "stream",
     "text": [
      "Result: 1.0\n"
     ]
    }
   ],
   "source": [
    "# 9) Write a Python program that takes two numbers as input and performs division, handling the\n",
    "# case where the divisor is zero.\n",
    "a = float(input(\"Enter numerator: \"))\n",
    "b = float(input(\"Enter denominator: \"))\n",
    "\n",
    "if b != 0:\n",
    "    print(\"Result:\", a / b)\n",
    "else:\n",
    "    print(\"Cannot divide by zero\")\n",
    "\n"
   ]
  },
  {
   "cell_type": "code",
   "execution_count": 9,
   "id": "be0f7e4a-6e4c-469a-84ac-0d700a0ad097",
   "metadata": {},
   "outputs": [
    {
     "name": "stdout",
     "output_type": "stream",
     "text": [
      "9\n"
     ]
    }
   ],
   "source": [
    "# 10) Write a Python function that takes a list of numbers and returns the maximum value in the list.\n",
    "def find_max(nums):\n",
    "    return max(nums)\n",
    "\n",
    "print(find_max([3, 7, 2, 9, 1]))\n"
   ]
  },
  {
   "cell_type": "code",
   "execution_count": 10,
   "id": "2e4164de-34f8-4349-aab2-64a629a7c468",
   "metadata": {},
   "outputs": [
    {
     "name": "stdout",
     "output_type": "stream",
     "text": [
      "Hello Alice, you are 25 years old\n",
      "Hello Bob, you are 30 years old\n"
     ]
    }
   ],
   "source": [
    "# 11) Write a Python function that takes a name and an optional age parameter and prints a greeting.\n",
    "# If the age is not provided, it should default to 25.\n",
    "def greet(name, age=25):\n",
    "    print(f\"Hello {name}, you are {age} years old\")\n",
    "\n",
    "greet(\"Alice\")\n",
    "greet(\"Bob\", 30)\n"
   ]
  },
  {
   "cell_type": "code",
   "execution_count": 13,
   "id": "280e712a-b3e5-41a9-b922-8093e3732d06",
   "metadata": {},
   "outputs": [
    {
     "name": "stdout",
     "output_type": "stream",
     "text": [
      "Number of vowels: 2\n"
     ]
    }
   ],
   "source": [
    "# 12) Write a Python program to count the number of vowels in a given string.\n",
    "s = input(\"Enter a string: \").lower()\n",
    "vowels = \"aeiou\"\n",
    "count = sum(1 for char in s if char in vowels)\n",
    "print(\"Number of vowels:\", count)\n"
   ]
  },
  {
   "cell_type": "code",
   "execution_count": 14,
   "id": "cf5f7b89-8dc3-4888-883d-571d56aa06c5",
   "metadata": {},
   "outputs": [
    {
     "name": "stdout",
     "output_type": "stream",
     "text": [
      "6 x 1 = 6\n",
      "6 x 2 = 12\n",
      "6 x 3 = 18\n",
      "6 x 4 = 24\n",
      "6 x 5 = 30\n",
      "6 x 6 = 36\n",
      "6 x 7 = 42\n",
      "6 x 8 = 48\n",
      "6 x 9 = 54\n",
      "6 x 10 = 60\n"
     ]
    }
   ],
   "source": [
    "\n",
    "# 13) Write a Python program that prints a multiplication table up to (numberx10).\n",
    "num = int(input(\"Enter number: \"))\n",
    "for i in range(1, 11):\n",
    "    print(f\"{num} x {i} = {num * i}\")\n"
   ]
  },
  {
   "cell_type": "code",
   "execution_count": 15,
   "id": "54dea79e-cd8f-48c0-a0a3-0cd58d6fdfae",
   "metadata": {},
   "outputs": [
    {
     "name": "stdout",
     "output_type": "stream",
     "text": [
      "*\n",
      "**\n",
      "***\n",
      "****\n",
      "*****\n",
      "******\n",
      "*******\n"
     ]
    }
   ],
   "source": [
    "# 14) Write a Python program to print a right-angled triangle of '*' with a given number of rows.\n",
    "rows = int(input(\"Enter rows: \"))\n",
    "for i in range(1, rows + 1):\n",
    "    print('*' * i)\n"
   ]
  },
  {
   "cell_type": "code",
   "execution_count": 18,
   "id": "eda0ffc5-73b4-459b-92d5-bc8f55855038",
   "metadata": {},
   "outputs": [
    {
     "name": "stdout",
     "output_type": "stream",
     "text": [
      "     *\n",
      "    ***\n",
      "   *****\n",
      "  *******\n",
      " *********\n",
      "***********\n"
     ]
    }
   ],
   "source": [
    "# 15) Write a Python program to print a pyramid of '*' with a given number of rows.\n",
    "rows = int(input(\"Enter rows: \"))\n",
    "for i in range(rows):\n",
    "    print(' ' * (rows - i - 1) + '*' * (2 * i + 1))\n"
   ]
  },
  {
   "cell_type": "code",
   "execution_count": 7,
   "id": "c500dc76-a46c-4b2f-832c-5dcb7648d855",
   "metadata": {},
   "outputs": [],
   "source": [
    "# Set B"
   ]
  },
  {
   "cell_type": "code",
   "execution_count": 19,
   "id": "7c48998c-1aa2-4203-8f38-9bcde429f372",
   "metadata": {},
   "outputs": [
    {
     "name": "stdout",
     "output_type": "stream",
     "text": [
      "True\n"
     ]
    }
   ],
   "source": [
    "# 1) Given an integer x, return true if x is a palindrome, and false otherwise. (LeetCode: Palindrome Number)\n",
    "x = int(input(\"Enter number: \"))\n",
    "if str(x) == str(x)[::-1]:\n",
    "    print(True)\n",
    "else:\n",
    "    print(False)\n"
   ]
  },
  {
   "cell_type": "code",
   "execution_count": 5,
   "id": "15f8d936-9541-4a98-8f21-04ab8104e747",
   "metadata": {},
   "outputs": [
    {
     "name": "stdout",
     "output_type": "stream",
     "text": [
      "Single Number: 4\n"
     ]
    }
   ],
   "source": [
    "# 2) Given a non-empty array of integers nums, every element appears twice except for one. Find that single one. (LeetCode: Single Number)\n",
    "nums = [4, 1, 2, 1, 2]\n",
    "result = 0\n",
    "for num in nums:\n",
    "    result ^= num\n",
    "print(\"Single Number:\", result)\n",
    "\n"
   ]
  },
  {
   "cell_type": "code",
   "execution_count": 4,
   "id": "49025b95-76fe-4ee2-b8cc-00eb03c9d534",
   "metadata": {},
   "outputs": [
    {
     "name": "stdout",
     "output_type": "stream",
     "text": [
      "[0, 1]\n"
     ]
    }
   ],
   "source": [
    "# 3) Given an array of integers nums and an integer target, return indices of the two numbers such that they add up to target. (LeetCode: Two Sum)\n",
    "nums = [2, 7, 11, 15]\n",
    "target = 9\n",
    "for i in range(len(nums)):\n",
    "    for j in range(i + 1, len(nums)):\n",
    "        if nums[i] + nums[j] == target:\n",
    "            print([i, j])\n"
   ]
  },
  {
   "cell_type": "code",
   "execution_count": 3,
   "id": "099b5674-67af-4abc-966a-e00140eae5c7",
   "metadata": {},
   "outputs": [
    {
     "name": "stdout",
     "output_type": "stream",
     "text": [
      "True\n"
     ]
    }
   ],
   "source": [
    "# 4) Write an algorithm to determine if a number n is happy. (LeetCode: Happy Number)\n",
    "def is_happy(n):\n",
    "    seen = set()\n",
    "    while n != 1 and n not in seen:\n",
    "        seen.add(n)\n",
    "        n = sum(int(ch) ** 2 for ch in str(n))\n",
    "    return n == 1\n",
    "\n",
    "print(is_happy(19))\n"
   ]
  },
  {
   "cell_type": "code",
   "execution_count": 2,
   "id": "8959fe98-66c1-492b-ac9e-aa35f5008fa5",
   "metadata": {},
   "outputs": [
    {
     "name": "stdout",
     "output_type": "stream",
     "text": [
      "True\n"
     ]
    }
   ],
   "source": [
    "# 5) Given an integer array nums, return true if any value appears at least twice in the array, and return false if every element is distinct. (LeetCode: Contains Duplicate)\n",
    "nums = [1, 2, 3, 1]\n",
    "if len(nums) != len(set(nums)):\n",
    "    print(True)\n",
    "else:\n",
    "    print(False)"
   ]
  }
 ],
 "metadata": {
  "kernelspec": {
   "display_name": "Python 3",
   "language": "python",
   "name": "python3"
  },
  "language_info": {
   "codemirror_mode": {
    "name": "ipython",
    "version": 3
   },
   "file_extension": ".py",
   "mimetype": "text/x-python",
   "name": "python",
   "nbconvert_exporter": "python",
   "pygments_lexer": "ipython3",
   "version": "3.13.3"
  }
 },
 "nbformat": 4,
 "nbformat_minor": 5
}
